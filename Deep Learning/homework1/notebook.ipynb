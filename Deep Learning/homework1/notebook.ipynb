{
 "cells": [
  {
   "cell_type": "code",
   "execution_count": 167,
   "id": "68c128ea",
   "metadata": {},
   "outputs": [
    {
     "name": "stdout",
     "output_type": "stream",
     "text": [
      "2.3.1\n"
     ]
    }
   ],
   "source": [
    "import time\n",
    "\n",
    "import torch\n",
    "\n",
    "print(torch.__version__)"
   ]
  },
  {
   "cell_type": "code",
   "execution_count": null,
   "id": "3e867470",
   "metadata": {},
   "outputs": [],
   "source": [
    "x = [1, 2, 3, 4, 5]\n",
    "x = torch.as_tensor(x)\n",
    "print(x)"
   ]
  },
  {
   "cell_type": "code",
   "execution_count": null,
   "id": "0720a57e",
   "metadata": {},
   "outputs": [],
   "source": [
    "x = torch.zeros(3, 4)\n",
    "print(x)"
   ]
  },
  {
   "cell_type": "code",
   "execution_count": null,
   "id": "b460c713",
   "metadata": {},
   "outputs": [],
   "source": [
    "x = torch.ones(3, 4)\n",
    "print(x)"
   ]
  },
  {
   "cell_type": "code",
   "execution_count": null,
   "id": "66b2f34d",
   "metadata": {},
   "outputs": [],
   "source": [
    "x = torch.full((3, 4), fill_value=2)\n",
    "print(x)"
   ]
  },
  {
   "cell_type": "code",
   "execution_count": null,
   "id": "0155966d",
   "metadata": {},
   "outputs": [],
   "source": [
    "x = torch.randn(3, 4)\n",
    "print(x)"
   ]
  },
  {
   "cell_type": "code",
   "execution_count": null,
   "id": "6824785f",
   "metadata": {},
   "outputs": [],
   "source": [
    "x = torch.randn(3, 4)\n",
    "y = torch.zeros_like(x)\n",
    "print(y)"
   ]
  },
  {
   "cell_type": "code",
   "execution_count": null,
   "id": "62fc1e99",
   "metadata": {},
   "outputs": [],
   "source": [
    "x = torch.randn(3, 4)\n",
    "y = torch.ones_like(x)\n",
    "print(y)"
   ]
  },
  {
   "cell_type": "code",
   "execution_count": null,
   "id": "dc9decee",
   "metadata": {},
   "outputs": [],
   "source": [
    "x = torch.randn(3, 4)\n",
    "y = torch.full_like(x, 5)\n",
    "print(y)"
   ]
  },
  {
   "cell_type": "code",
   "execution_count": null,
   "id": "db31d631",
   "metadata": {},
   "outputs": [],
   "source": [
    "x = torch.zeros(3, 4, dtype=torch.bool)\n",
    "y = x.new_tensor([1, 2, 3, 4])\n",
    "print(y)"
   ]
  },
  {
   "cell_type": "code",
   "execution_count": null,
   "id": "e5d0c1d1",
   "metadata": {},
   "outputs": [],
   "source": [
    "x = torch.ones(5, 1)\n",
    "y = torch.ones(1, 5)\n",
    "z = x + y\n",
    "print(z, z.shape)"
   ]
  },
  {
   "cell_type": "code",
   "execution_count": null,
   "id": "4d1356ea",
   "metadata": {},
   "outputs": [],
   "source": [
    "x = torch.ones(1, 1, 1, 1, 1)\n",
    "y = torch.ones(2, 1, 3, 1, 2)\n",
    "z = x + y\n",
    "print(z, z.shape)"
   ]
  },
  {
   "cell_type": "code",
   "execution_count": null,
   "id": "50355637",
   "metadata": {},
   "outputs": [],
   "source": [
    "x = torch.ones(3, 4, 5)\n",
    "print(x.mean())\n",
    "print(x.mean(-1))"
   ]
  },
  {
   "cell_type": "code",
   "execution_count": null,
   "id": "5561794b",
   "metadata": {},
   "outputs": [],
   "source": [
    "x = torch.ones(3, 4, 5)\n",
    "print(x.sum(dim=0))\n",
    "print(x.sum(dim=(1, 2)))"
   ]
  },
  {
   "cell_type": "code",
   "execution_count": null,
   "id": "b71b2353",
   "metadata": {},
   "outputs": [],
   "source": [
    "x = torch.ones(3, 4, 5)\n",
    "y = x.sum(dim=(1, 2))\n",
    "z = x.sum(dim=(1, 2), keepdim=True)\n",
    "print(y, y.shape)\n",
    "print(z, z.shape)"
   ]
  },
  {
   "cell_type": "code",
   "execution_count": null,
   "id": "07154872",
   "metadata": {},
   "outputs": [],
   "source": [
    "x = torch.randn(5, 5)\n",
    "print(x.to(torch.long))"
   ]
  },
  {
   "cell_type": "code",
   "execution_count": null,
   "id": "70de81c0",
   "metadata": {},
   "outputs": [],
   "source": [
    "x = torch.randn(2, 3, 2)\n",
    "y = x.view(6, 2)\n",
    "z = x.view(-1, 2)\n",
    "print(y, y.shape)\n",
    "print(z, z.shape)"
   ]
  },
  {
   "cell_type": "code",
   "execution_count": null,
   "id": "7820367e",
   "metadata": {},
   "outputs": [],
   "source": [
    "x = torch.randn(2, 3, 2)\n",
    "y = x.permute(1, 2, 0)\n",
    "print(y, y.shape)"
   ]
  },
  {
   "cell_type": "code",
   "execution_count": null,
   "id": "d2d2e046",
   "metadata": {},
   "outputs": [],
   "source": [
    "x = torch.ones(2, 3)\n",
    "y = torch.ones(2, 3)\n",
    "z = torch.cat([x, y], dim=0)\n",
    "print(z, z.shape)"
   ]
  },
  {
   "cell_type": "code",
   "execution_count": null,
   "id": "99cb5f45",
   "metadata": {},
   "outputs": [],
   "source": [
    "x = torch.ones(2, 3)\n",
    "y = torch.ones(2, 3)\n",
    "z = torch.stack([x, y], dim=1)\n",
    "print(z, z.shape)"
   ]
  },
  {
   "cell_type": "code",
   "execution_count": null,
   "id": "175d2659",
   "metadata": {},
   "outputs": [],
   "source": [
    "def add_two_lists(x, y):\n",
    "    z = []\n",
    "    for i, j in zip(x, y):\n",
    "        z.append(i + j)\n",
    "    return z\n",
    "\n",
    "\n",
    "x = torch.ones(5000)\n",
    "y = torch.ones(5000)\n",
    "t1 = time.time()\n",
    "z = add_two_lists(x, y)\n",
    "print(f\"{time.time() - t1:.4f} sec.\")"
   ]
  },
  {
   "cell_type": "code",
   "execution_count": null,
   "id": "798c4490",
   "metadata": {},
   "outputs": [],
   "source": [
    "def add_two_lists(x, y):\n",
    "    return x + y\n",
    "\n",
    "\n",
    "x = torch.ones(5000)\n",
    "y = torch.ones(5000)\n",
    "t1 = time.time()\n",
    "z = add_two_lists(x, y)\n",
    "print(f\"{time.time() - t1:.4f} sec.\")"
   ]
  },
  {
   "cell_type": "code",
   "execution_count": null,
   "id": "df0b923a",
   "metadata": {},
   "outputs": [],
   "source": [
    "x = torch.randn(3, 3)\n",
    "y = torch.zeros(5, 2, dtype=torch.long)\n",
    "print(x.to(torch.float32))\n",
    "print(x.to(torch.bool))\n",
    "print(x.to(y))"
   ]
  },
  {
   "cell_type": "code",
   "execution_count": null,
   "id": "3b8afb55",
   "metadata": {},
   "outputs": [],
   "source": [
    "x = torch.arange(8)\n",
    "print(x)\n",
    "y = torch.arange(2, 8)\n",
    "print(y)\n",
    "z = torch.arange(3, 10, step=2)\n",
    "print(z)"
   ]
  },
  {
   "cell_type": "code",
   "execution_count": null,
   "id": "f07fd730",
   "metadata": {},
   "outputs": [],
   "source": [
    "print(y)\n",
    "print(torch.select(y, 0, 2))"
   ]
  },
  {
   "cell_type": "code",
   "execution_count": null,
   "id": "2f2d75f5",
   "metadata": {},
   "outputs": [],
   "source": [
    "x = torch.arange(0, 15)\n",
    "print(x)"
   ]
  },
  {
   "cell_type": "code",
   "execution_count": null,
   "id": "354241b9",
   "metadata": {},
   "outputs": [],
   "source": [
    "y = []\n",
    "for i, v in enumerate(x):\n",
    "    if i % 3 == 0:\n",
    "        y.append(v)\n",
    "torch.stack(y, dim=0)"
   ]
  },
  {
   "cell_type": "code",
   "execution_count": null,
   "id": "00f4835d",
   "metadata": {},
   "outputs": [],
   "source": [
    "a = torch.tensor([[[1, 2, 3, 4], [5, 6, 7, 8], [9, 10, 11, 12]], [[13, 14, 15, 16], [17, 18, 19 , 20], [21, 22, 23, 24]]])"
   ]
  },
  {
   "cell_type": "code",
   "execution_count": null,
   "id": "d318ad78",
   "metadata": {},
   "outputs": [],
   "source": [
    "print(a)"
   ]
  },
  {
   "cell_type": "code",
   "execution_count": null,
   "id": "07675ec5",
   "metadata": {},
   "outputs": [],
   "source": [
    "tensor_3d = torch.tensor([\n",
    "    [[1, 2, 3, 4], [5, 6, 7, 8], [9, 10, 11, 12]],\n",
    "    [[13, 14, 15, 16], [17, 18, 19, 20], [21, 22, 23, 24]]\n",
    "])"
   ]
  },
  {
   "cell_type": "code",
   "execution_count": null,
   "id": "74e2f5fb",
   "metadata": {},
   "outputs": [],
   "source": [
    "n, m, _ = tensor_3d.shape\n",
    "y = torch.zeros(n, m)\n",
    "for i in range(n):\n",
    "    for j in range(m):\n",
    "        maxval = float(\"-inf\")\n",
    "        for v in tensor_3d[i, j]:\n",
    "            if v > maxval:\n",
    "                maxval = v\n",
    "        y[i, j] = maxval\n",
    "y"
   ]
  },
  {
   "cell_type": "code",
   "execution_count": null,
   "id": "87078d27",
   "metadata": {},
   "outputs": [],
   "source": [
    "torch.max(tensor_3d, 2)"
   ]
  },
  {
   "cell_type": "code",
   "execution_count": null,
   "id": "d484d14f",
   "metadata": {},
   "outputs": [],
   "source": [
    "vals, inds = torch.max(tensor_3d, 2)\n",
    "vals"
   ]
  },
  {
   "cell_type": "code",
   "execution_count": null,
   "id": "4ec500e1",
   "metadata": {},
   "outputs": [],
   "source": [
    "torch.max(tensor_3d, 2)[0]"
   ]
  },
  {
   "cell_type": "code",
   "execution_count": null,
   "id": "974dea6d",
   "metadata": {},
   "outputs": [],
   "source": [
    "y = []\n",
    "for i in x.flatten():\n",
    "    if i not in y:\n",
    "        y.append(i)\n",
    "torch.as_tensor(sorted(y))"
   ]
  },
  {
   "cell_type": "code",
   "execution_count": null,
   "id": "8d1d3467",
   "metadata": {},
   "outputs": [],
   "source": [
    "x =torch.tensor([5, 4, 3, 2, 3, 4, 5])"
   ]
  },
  {
   "cell_type": "code",
   "execution_count": null,
   "id": "5a17389d",
   "metadata": {},
   "outputs": [],
   "source": [
    "torch.unique(x, sorted=True)"
   ]
  },
  {
   "cell_type": "code",
   "execution_count": null,
   "id": "fe69eecb",
   "metadata": {},
   "outputs": [],
   "source": [
    "x = torch.tensor([0., 1., 2., 3., 4., 5., 6., 7., 8., 9., 10.])\n",
    "y = torch.tensor([3, 4, 5, 6, 7, 8])"
   ]
  },
  {
   "cell_type": "code",
   "execution_count": null,
   "id": "de96d508",
   "metadata": {},
   "outputs": [],
   "source": [
    "a = 0\n",
    "b = 0\n",
    "for i in x.flatten():\n",
    "    a += i\n",
    "    b += 1\n",
    "mean = a / b\n",
    "c = 0\n",
    "for i in y.flatten():\n",
    "    if i > mean:\n",
    "        c += 1\n",
    "torch.as_tensor(c)"
   ]
  },
  {
   "cell_type": "code",
   "execution_count": null,
   "id": "252f253f",
   "metadata": {},
   "outputs": [],
   "source": [
    "(10+9+8+7+6+5+4+3+2+1+0)/11"
   ]
  },
  {
   "cell_type": "code",
   "execution_count": null,
   "id": "b81fe544",
   "metadata": {},
   "outputs": [],
   "source": [
    "torch.mean(x, dim=0)"
   ]
  },
  {
   "cell_type": "code",
   "execution_count": null,
   "id": "8a1f51f3",
   "metadata": {},
   "outputs": [],
   "source": [
    "torch.where(y > torch.mean(x, dim=0))[0].sum().item()"
   ]
  },
  {
   "cell_type": "code",
   "execution_count": null,
   "id": "d284b7ca",
   "metadata": {},
   "outputs": [],
   "source": [
    "torch.tensor(torch.gt(y, torch.mean(x, dim=0)).sum().item())"
   ]
  },
  {
   "cell_type": "code",
   "execution_count": null,
   "id": "b4c584ef",
   "metadata": {},
   "outputs": [],
   "source": [
    "torch.mean(x, dim=0)"
   ]
  },
  {
   "cell_type": "code",
   "execution_count": null,
   "id": "4fb90002",
   "metadata": {},
   "outputs": [],
   "source": [
    "x = torch.tensor([[0., 1.], [0.,2.]])"
   ]
  },
  {
   "cell_type": "code",
   "execution_count": null,
   "id": "82511e9e",
   "metadata": {},
   "outputs": [],
   "source": [
    "x"
   ]
  },
  {
   "cell_type": "code",
   "execution_count": null,
   "id": "a4819daf",
   "metadata": {},
   "outputs": [],
   "source": [
    "y = torch.zeros(x.shape[1], x.shape[0])\n",
    "for i in range(x.shape[0]):\n",
    "    for j in range(x.shape[1]):\n",
    "        y[j, i] = x[i, j]\n",
    "y"
   ]
  },
  {
   "cell_type": "code",
   "execution_count": null,
   "id": "2dd82c1e",
   "metadata": {},
   "outputs": [],
   "source": [
    "torch.flip(torch.flip(x, dims=(-1,0)), dims=(-1,0))"
   ]
  },
  {
   "cell_type": "code",
   "execution_count": null,
   "id": "68698b90",
   "metadata": {},
   "outputs": [],
   "source": [
    "y = []\n",
    "for i in range(min(x.shape[0], x.shape[1])):\n",
    "    y.append(x[i, i])\n",
    "torch.as_tensor(y)"
   ]
  },
  {
   "cell_type": "code",
   "execution_count": null,
   "id": "654a0130",
   "metadata": {},
   "outputs": [],
   "source": [
    "torch.diag(x)"
   ]
  },
  {
   "cell_type": "code",
   "execution_count": null,
   "id": "3b3ba815",
   "metadata": {},
   "outputs": [],
   "source": [
    "y = []\n",
    "for i in range(min(x.shape[0], x.shape[1])):\n",
    "    y.append(x[i, x.shape[1] - i - 1])\n",
    "torch.as_tensor(y)"
   ]
  },
  {
   "cell_type": "code",
   "execution_count": null,
   "id": "46138975",
   "metadata": {},
   "outputs": [],
   "source": [
    "torch.diag(torch.flip(x, [1]))"
   ]
  },
  {
   "cell_type": "code",
   "execution_count": 173,
   "id": "4005eb47",
   "metadata": {},
   "outputs": [
    {
     "name": "stdout",
     "output_type": "stream",
     "text": [
      "tensor([[0, 1, 2],\n",
      "        [3, 4, 5],\n",
      "        [6, 7, 8]])\n"
     ]
    }
   ],
   "source": [
    "x = torch.tensor([[0,1,2], [3,4,5], [6,7,8]])\n",
    "print(x)"
   ]
  },
  {
   "cell_type": "code",
   "execution_count": 163,
   "id": "84ace8dc",
   "metadata": {},
   "outputs": [
    {
     "data": {
      "text/plain": [
       "tensor([[ 0,  1,  3],\n",
       "        [ 3,  8, 15],\n",
       "        [ 9, 21, 36]])"
      ]
     },
     "execution_count": 163,
     "metadata": {},
     "output_type": "execute_result"
    }
   ],
   "source": [
    "y = torch.zeros_like(x)\n",
    "for i in range(0, x.shape[0]):\n",
    "    for j in range(0, x.shape[1]):\n",
    "        y[i, j] = x[i, j]\n",
    "        if i > 0:\n",
    "            y[i, j] += y[i - 1, j]\n",
    "        if j > 0:\n",
    "            y[i, j] += y[i, j - 1]\n",
    "        if i > 0 and j > 0:\n",
    "            y[i, j] -= y[i - 1, j - 1]\n",
    "y"
   ]
  },
  {
   "cell_type": "code",
   "execution_count": 156,
   "id": "a4459ba8",
   "metadata": {},
   "outputs": [
    {
     "data": {
      "text/plain": [
       "tensor([[ 0,  1,  3],\n",
       "        [ 6, 10, 15]])"
      ]
     },
     "execution_count": 156,
     "metadata": {},
     "output_type": "execute_result"
    }
   ],
   "source": [
    "torch.cumsum(torch.flatten(x), dim=0).view(x.shape)"
   ]
  },
  {
   "cell_type": "code",
   "execution_count": 164,
   "id": "cfd810e2",
   "metadata": {},
   "outputs": [
    {
     "data": {
      "text/plain": [
       "tensor([[ 0,  1,  3],\n",
       "        [ 3,  8, 15],\n",
       "        [ 9, 21, 36]])"
      ]
     },
     "execution_count": 164,
     "metadata": {},
     "output_type": "execute_result"
    }
   ],
   "source": [
    "torch.cumsum(torch.cumsum(x, dim=0), dim=1)"
   ]
  },
  {
   "cell_type": "code",
   "execution_count": 171,
   "id": "edd1dc0f",
   "metadata": {},
   "outputs": [
    {
     "data": {
      "text/plain": [
       "tensor([[0, 0, 0],\n",
       "        [0, 4, 5],\n",
       "        [6, 7, 8]])"
      ]
     },
     "execution_count": 171,
     "metadata": {},
     "output_type": "execute_result"
    }
   ],
   "source": [
    "c = 4\n",
    "\n",
    "y = torch.zeros_like(x)\n",
    "for i in range(x.shape[0]):\n",
    "    for j in range(x.shape[1]):\n",
    "        if x[i, j] < c:\n",
    "            y[i, j] = 0.0\n",
    "        else:\n",
    "            y[i, j] = x[i, j]\n",
    "y"
   ]
  },
  {
   "cell_type": "code",
   "execution_count": 170,
   "id": "b160f827",
   "metadata": {},
   "outputs": [
    {
     "data": {
      "text/plain": [
       "tensor([[0, 0, 0],\n",
       "        [0, 4, 5],\n",
       "        [6, 7, 8]])"
      ]
     },
     "execution_count": 170,
     "metadata": {},
     "output_type": "execute_result"
    }
   ],
   "source": [
    "torch.where(x < c, torch.tensor(0), x)"
   ]
  },
  {
   "cell_type": "code",
   "execution_count": 168,
   "id": "b07734fd",
   "metadata": {},
   "outputs": [],
   "source": [
    "c = torch.tensor(4)"
   ]
  },
  {
   "cell_type": "code",
   "execution_count": 169,
   "id": "072a6331",
   "metadata": {},
   "outputs": [
    {
     "data": {
      "text/plain": [
       "tensor(4)"
      ]
     },
     "execution_count": 169,
     "metadata": {},
     "output_type": "execute_result"
    }
   ],
   "source": [
    "c"
   ]
  },
  {
   "cell_type": "code",
   "execution_count": 174,
   "id": "7277187d",
   "metadata": {},
   "outputs": [
    {
     "data": {
      "text/plain": [
       "tensor([[0, 0, 0, 1],\n",
       "        [0, 1, 2, 0]])"
      ]
     },
     "execution_count": 174,
     "metadata": {},
     "output_type": "execute_result"
    }
   ],
   "source": [
    "row, col = [], []\n",
    "for i in range(x.shape[0]):\n",
    "    for j in range(x.shape[1]):\n",
    "        if x[i, j] < c:\n",
    "            row.append(i)\n",
    "            col.append(j)\n",
    "torch.as_tensor([row, col])"
   ]
  },
  {
   "cell_type": "code",
   "execution_count": 175,
   "id": "eaef63fa",
   "metadata": {},
   "outputs": [
    {
     "data": {
      "text/plain": [
       "tensor([[0, 0, 0, 1],\n",
       "        [0, 1, 2, 0]])"
      ]
     },
     "execution_count": 175,
     "metadata": {},
     "output_type": "execute_result"
    }
   ],
   "source": [
    "torch.nonzero(x < c, as_tuple=False).t()"
   ]
  },
  {
   "cell_type": "code",
   "execution_count": 177,
   "id": "cd7d4102",
   "metadata": {},
   "outputs": [
    {
     "data": {
      "text/plain": [
       "tensor([0, 3, 4])"
      ]
     },
     "execution_count": 177,
     "metadata": {},
     "output_type": "execute_result"
    }
   ],
   "source": [
    "x = torch.tensor([[0,1,2], [3,4,5]])\n",
    "m = torch.tensor([[True, False, False], [True, True, False]])\n",
    "\n",
    "y = []\n",
    "for i in range(x.shape[0]):\n",
    "    for j in range(x.shape[1]):\n",
    "        if m[i, j]:\n",
    "            y.append(x[i, j])\n",
    "torch.as_tensor(y)"
   ]
  },
  {
   "cell_type": "code",
   "execution_count": 181,
   "id": "2548b970",
   "metadata": {},
   "outputs": [
    {
     "data": {
      "text/plain": [
       "tensor([0, 3, 4])"
      ]
     },
     "execution_count": 181,
     "metadata": {},
     "output_type": "execute_result"
    }
   ],
   "source": [
    "x[m]"
   ]
  },
  {
   "cell_type": "code",
   "execution_count": 190,
   "id": "9b831840",
   "metadata": {},
   "outputs": [
    {
     "data": {
      "text/plain": [
       "tensor([ 1,  4, -2,  0,  1,  1,  1])"
      ]
     },
     "execution_count": 190,
     "metadata": {},
     "output_type": "execute_result"
    }
   ],
   "source": [
    "x = torch.tensor([1,2,6,4])\n",
    "y = torch.tensor([4,5,6,7])\n",
    "\n",
    "xy = []\n",
    "for xi in x:\n",
    "    xy.append(xi)\n",
    "for yi in y:\n",
    "    xy.append(yi)\n",
    "\n",
    "z = []\n",
    "for xy1, xy2 in zip(xy[1:], xy[:-1]):\n",
    "    z.append(xy1 - xy2)\n",
    "torch.as_tensor(z)"
   ]
  },
  {
   "cell_type": "code",
   "execution_count": 191,
   "id": "637a3f1f",
   "metadata": {},
   "outputs": [
    {
     "data": {
      "text/plain": [
       "tensor(2)"
      ]
     },
     "execution_count": 191,
     "metadata": {},
     "output_type": "execute_result"
    }
   ],
   "source": [
    "count = 0\n",
    "for xi in x:\n",
    "    for yi in y:\n",
    "        if abs(xi - yi) < 1e-3:\n",
    "            count += 1\n",
    "            break\n",
    "torch.as_tensor(count)"
   ]
  },
  {
   "cell_type": "code",
   "execution_count": 195,
   "id": "51befb3a",
   "metadata": {},
   "outputs": [
    {
     "data": {
      "text/plain": [
       "tensor(2)"
      ]
     },
     "execution_count": 195,
     "metadata": {},
     "output_type": "execute_result"
    }
   ],
   "source": [
    "torch.tensor((x.unsqueeze(1) == y).any(dim=1).sum().item())"
   ]
  },
  {
   "cell_type": "code",
   "execution_count": 197,
   "id": "f666588f",
   "metadata": {},
   "outputs": [
    {
     "data": {
      "text/plain": [
       "tensor([[1., 2., 3.],\n",
       "        [4., 5., 6.],\n",
       "        [7., 8., 9.]])"
      ]
     },
     "execution_count": 197,
     "metadata": {},
     "output_type": "execute_result"
    }
   ],
   "source": [
    "a = [[1., 2., 3.], [4., 5., 6.], [7., 8., 9.]]\n",
    "b = [1., 1., 0.]\n",
    "torch.tensor(a)"
   ]
  },
  {
   "cell_type": "code",
   "execution_count": 201,
   "id": "5b8448df",
   "metadata": {},
   "outputs": [
    {
     "data": {
      "text/plain": [
       "tensor([1., 1., 0.])"
      ]
     },
     "execution_count": 201,
     "metadata": {},
     "output_type": "execute_result"
    }
   ],
   "source": [
    "torch.Tensor(b)"
   ]
  },
  {
   "cell_type": "code",
   "execution_count": 212,
   "id": "38237fee",
   "metadata": {},
   "outputs": [
    {
     "data": {
      "text/plain": [
       "(tensor([[1., 2., 3.],\n",
       "         [4., 5., 6.],\n",
       "         [7., 8., 9.]]),\n",
       " tensor([1., 1., 0.]))"
      ]
     },
     "execution_count": 212,
     "metadata": {},
     "output_type": "execute_result"
    }
   ],
   "source": [
    "torch.as_tensor(a),torch.as_tensor(b)"
   ]
  },
  {
   "cell_type": "code",
   "execution_count": 210,
   "id": "858d3dd9",
   "metadata": {},
   "outputs": [
    {
     "data": {
      "text/plain": [
       "tensor([[1., 2., 3.],\n",
       "        [4., 5., 6.],\n",
       "        [7., 8., 9.]])"
      ]
     },
     "execution_count": 210,
     "metadata": {},
     "output_type": "execute_result"
    }
   ],
   "source": [
    "test = torch.as_tensor(a)\n",
    "test"
   ]
  },
  {
   "cell_type": "code",
   "execution_count": 211,
   "id": "381b1f46",
   "metadata": {},
   "outputs": [
    {
     "data": {
      "text/plain": [
       "tensor([1., 1., 1.])"
      ]
     },
     "execution_count": 211,
     "metadata": {},
     "output_type": "execute_result"
    }
   ],
   "source": [
    "test.std(dim=1)"
   ]
  },
  {
   "cell_type": "code",
   "execution_count": 15,
   "id": "c039971e",
   "metadata": {},
   "outputs": [
    {
     "name": "stdout",
     "output_type": "stream",
     "text": [
      "tensor([[7., 8., 9.],\n",
      "        [1., 2., 3.],\n",
      "        [4., 5., 6.]])\n",
      "tensor([1., 0., 1.])\n"
     ]
    }
   ],
   "source": [
    "x = [[7.,8.,9.], [1.,2.,3.], [4.,5.,6.]]\n",
    "y = [1.,0.,1.]\n",
    "\n",
    "data = torch.as_tensor(x)\n",
    "label = torch.as_tensor(y)\n",
    "\n",
    "print(data)\n",
    "print(label)"
   ]
  },
  {
   "cell_type": "code",
   "execution_count": 16,
   "id": "9f60f68f",
   "metadata": {},
   "outputs": [
    {
     "name": "stdout",
     "output_type": "stream",
     "text": [
      "tensor([8., 2., 5.])\n",
      "tensor([1., 1., 1.])\n"
     ]
    }
   ],
   "source": [
    "data_mean = data.mean(dim=1)\n",
    "data_std = data.std(dim=1)\n",
    "\n",
    "print(data_mean)\n",
    "print(data_std)"
   ]
  },
  {
   "cell_type": "code",
   "execution_count": 17,
   "id": "f1d8d7ee",
   "metadata": {},
   "outputs": [
    {
     "name": "stdout",
     "output_type": "stream",
     "text": [
      "tensor([[-1.,  6.,  4.],\n",
      "        [-7.,  0., -2.],\n",
      "        [-4.,  3.,  1.]])\n"
     ]
    }
   ],
   "source": [
    "data_normalized = (data - data_mean)/data_std\n",
    "print(data_normalized)"
   ]
  },
  {
   "cell_type": "code",
   "execution_count": 18,
   "id": "5e9fd7db",
   "metadata": {},
   "outputs": [
    {
     "name": "stdout",
     "output_type": "stream",
     "text": [
      "tensor([-7.,  1.,  0.])\n"
     ]
    }
   ],
   "source": [
    "input = torch.as_tensor([1,3,5])\n",
    "\n",
    "input_normalized = (input - data_mean)/data_std\n",
    "print(input_normalized)"
   ]
  },
  {
   "cell_type": "code",
   "execution_count": 19,
   "id": "ebf96f53",
   "metadata": {},
   "outputs": [
    {
     "data": {
      "text/plain": [
       "[tensor(77.), tensor(5.), tensor(14.)]"
      ]
     },
     "execution_count": 19,
     "metadata": {},
     "output_type": "execute_result"
    }
   ],
   "source": [
    "[(z - input_normalized).pow(2).sum() for z in data_normalized]"
   ]
  },
  {
   "cell_type": "code",
   "execution_count": 20,
   "id": "ef0dc5aa",
   "metadata": {},
   "outputs": [],
   "source": [
    "dist = torch.as_tensor([(z - input_normalized).pow(2).sum() for z in data_normalized])"
   ]
  },
  {
   "cell_type": "code",
   "execution_count": 21,
   "id": "13f7fc60",
   "metadata": {},
   "outputs": [
    {
     "data": {
      "text/plain": [
       "tensor([77.,  5., 14.])"
      ]
     },
     "execution_count": 21,
     "metadata": {},
     "output_type": "execute_result"
    }
   ],
   "source": [
    "dist"
   ]
  },
  {
   "cell_type": "code",
   "execution_count": 22,
   "id": "8a21264f",
   "metadata": {},
   "outputs": [],
   "source": [
    "idx = torch.argmin(dist)"
   ]
  },
  {
   "cell_type": "code",
   "execution_count": 23,
   "id": "a3d28772",
   "metadata": {},
   "outputs": [
    {
     "data": {
      "text/plain": [
       "tensor(1)"
      ]
     },
     "execution_count": 23,
     "metadata": {},
     "output_type": "execute_result"
    }
   ],
   "source": [
    "idx"
   ]
  },
  {
   "cell_type": "code",
   "execution_count": 28,
   "id": "7f137204",
   "metadata": {},
   "outputs": [
    {
     "data": {
      "text/plain": [
       "tensor([77.,  5., 14.])"
      ]
     },
     "execution_count": 28,
     "metadata": {},
     "output_type": "execute_result"
    }
   ],
   "source": [
    "dist"
   ]
  },
  {
   "cell_type": "code",
   "execution_count": 34,
   "id": "18640e53",
   "metadata": {},
   "outputs": [
    {
     "data": {
      "text/plain": [
       "tensor([1, 2, 0])"
      ]
     },
     "execution_count": 34,
     "metadata": {},
     "output_type": "execute_result"
    }
   ],
   "source": [
    "sorted, indices = torch.sort(dist)\n",
    "\n",
    "indices"
   ]
  },
  {
   "cell_type": "code",
   "execution_count": 37,
   "id": "e5fff9f1",
   "metadata": {},
   "outputs": [],
   "source": [
    "idx, xxxxx = torch.topk(indices, 2)"
   ]
  },
  {
   "cell_type": "code",
   "execution_count": 38,
   "id": "d27408f9",
   "metadata": {},
   "outputs": [
    {
     "data": {
      "text/plain": [
       "tensor([2, 1])"
      ]
     },
     "execution_count": 38,
     "metadata": {},
     "output_type": "execute_result"
    }
   ],
   "source": [
    "idx"
   ]
  },
  {
   "cell_type": "code",
   "execution_count": 39,
   "id": "87b42f14",
   "metadata": {},
   "outputs": [
    {
     "data": {
      "text/plain": [
       "tensor([[4., 5., 6.],\n",
       "        [1., 2., 3.]])"
      ]
     },
     "execution_count": 39,
     "metadata": {},
     "output_type": "execute_result"
    }
   ],
   "source": [
    "data[idx]"
   ]
  },
  {
   "cell_type": "code",
   "execution_count": 40,
   "id": "12663e3a",
   "metadata": {},
   "outputs": [
    {
     "data": {
      "text/plain": [
       "tensor([[4., 5., 6.],\n",
       "        [1., 2., 3.]])"
      ]
     },
     "execution_count": 40,
     "metadata": {},
     "output_type": "execute_result"
    }
   ],
   "source": [
    "data[idx]"
   ]
  },
  {
   "cell_type": "code",
   "execution_count": 41,
   "id": "02376990",
   "metadata": {},
   "outputs": [
    {
     "data": {
      "text/plain": [
       "tensor([1., 0.])"
      ]
     },
     "execution_count": 41,
     "metadata": {},
     "output_type": "execute_result"
    }
   ],
   "source": [
    "label[idx]"
   ]
  },
  {
   "cell_type": "code",
   "execution_count": 42,
   "id": "ede22563",
   "metadata": {},
   "outputs": [
    {
     "data": {
      "text/plain": [
       "tensor(0.5000)"
      ]
     },
     "execution_count": 42,
     "metadata": {},
     "output_type": "execute_result"
    }
   ],
   "source": [
    "torch.mean(label[idx])"
   ]
  },
  {
   "cell_type": "code",
   "execution_count": 86,
   "id": "409b8fb4",
   "metadata": {},
   "outputs": [],
   "source": [
    "x = [[3., 10., 1.],\n",
    "        [5., 4., 2.],\n",
    "        [7., 8., 100.]]\n",
    "\n",
    "data = torch.as_tensor(x)"
   ]
  },
  {
   "cell_type": "code",
   "execution_count": 74,
   "id": "e5af18d5",
   "metadata": {},
   "outputs": [],
   "source": [
    "min_values, idx = torch.max(data, dim=1)"
   ]
  },
  {
   "cell_type": "code",
   "execution_count": 75,
   "id": "d95b275a",
   "metadata": {},
   "outputs": [
    {
     "data": {
      "text/plain": [
       "tensor([ 10.,  10., 100.])"
      ]
     },
     "execution_count": 75,
     "metadata": {},
     "output_type": "execute_result"
    }
   ],
   "source": [
    "min_values"
   ]
  },
  {
   "cell_type": "code",
   "execution_count": 76,
   "id": "116deebd",
   "metadata": {},
   "outputs": [],
   "source": [
    "values, idx = torch.topk(min_values, 2)"
   ]
  },
  {
   "cell_type": "code",
   "execution_count": 77,
   "id": "3c339fe8",
   "metadata": {},
   "outputs": [
    {
     "data": {
      "text/plain": [
       "tensor([100.,  10.])"
      ]
     },
     "execution_count": 77,
     "metadata": {},
     "output_type": "execute_result"
    }
   ],
   "source": [
    "values"
   ]
  },
  {
   "cell_type": "code",
   "execution_count": 78,
   "id": "596e7104",
   "metadata": {},
   "outputs": [
    {
     "data": {
      "text/plain": [
       "tensor([100.,  10.])"
      ]
     },
     "execution_count": 78,
     "metadata": {},
     "output_type": "execute_result"
    }
   ],
   "source": [
    "torch.topk(min_values, 2)[0]"
   ]
  },
  {
   "cell_type": "code",
   "execution_count": 79,
   "id": "b340e521",
   "metadata": {},
   "outputs": [
    {
     "data": {
      "text/plain": [
       "tensor([100.,  10.])"
      ]
     },
     "execution_count": 79,
     "metadata": {},
     "output_type": "execute_result"
    }
   ],
   "source": [
    "torch.topk(torch.max(data, dim=1)[0], 2)[0]"
   ]
  },
  {
   "cell_type": "code",
   "execution_count": 91,
   "id": "f3788dd7",
   "metadata": {},
   "outputs": [
    {
     "data": {
      "text/plain": [
       "tensor([[  3.,  10.,   1.],\n",
       "        [  5.,   4.,   2.],\n",
       "        [  7.,   8., 100.]])"
      ]
     },
     "execution_count": 91,
     "metadata": {},
     "output_type": "execute_result"
    }
   ],
   "source": [
    "data"
   ]
  },
  {
   "cell_type": "code",
   "execution_count": 89,
   "id": "48ccc3e8",
   "metadata": {},
   "outputs": [
    {
     "data": {
      "text/plain": [
       "tensor([ 4.6667,  3.6667, 38.3333])"
      ]
     },
     "execution_count": 89,
     "metadata": {},
     "output_type": "execute_result"
    }
   ],
   "source": [
    "torch.mean(data, dim=1)"
   ]
  },
  {
   "cell_type": "code",
   "execution_count": 93,
   "id": "cae81135",
   "metadata": {},
   "outputs": [
    {
     "data": {
      "text/plain": [
       "tensor([-1.6667,  5.3333, -3.6667])"
      ]
     },
     "execution_count": 93,
     "metadata": {},
     "output_type": "execute_result"
    }
   ],
   "source": [
    "data[0] - torch.mean(data, dim=1)[0]"
   ]
  },
  {
   "cell_type": "code",
   "execution_count": 110,
   "id": "173d5ce0",
   "metadata": {},
   "outputs": [
    {
     "data": {
      "text/plain": [
       "tensor([1, 2, 2])"
      ]
     },
     "execution_count": 110,
     "metadata": {},
     "output_type": "execute_result"
    }
   ],
   "source": [
    "torch.argmax(torch.abs(data - torch.mean(data, dim=1, keepdim=True)), dim=1)"
   ]
  },
  {
   "cell_type": "code",
   "execution_count": 109,
   "id": "a322a836",
   "metadata": {},
   "outputs": [
    {
     "data": {
      "text/plain": [
       "tensor([[ 10.],\n",
       "        [  2.],\n",
       "        [100.]])"
      ]
     },
     "execution_count": 109,
     "metadata": {},
     "output_type": "execute_result"
    }
   ],
   "source": [
    "torch.gather(data, 1, torch.argmax(torch.abs(data - torch.mean(data, dim=1, keepdim=True)), dim=1).unsqueeze(1))"
   ]
  },
  {
   "cell_type": "code",
   "execution_count": 111,
   "id": "2034e358",
   "metadata": {},
   "outputs": [
    {
     "data": {
      "text/plain": [
       "tensor([[ -1.6667,   5.3333,  -3.6667],\n",
       "        [  1.3333,   0.3333,  -1.6667],\n",
       "        [-31.3333, -30.3333,  61.6667]])"
      ]
     },
     "execution_count": 111,
     "metadata": {},
     "output_type": "execute_result"
    }
   ],
   "source": [
    "data - torch.mean(data, dim=1, keepdim=True)"
   ]
  },
  {
   "cell_type": "code",
   "execution_count": 123,
   "id": "4e62fe86",
   "metadata": {},
   "outputs": [
    {
     "ename": "RuntimeError",
     "evalue": "dim 0 appears multiple times in the list of dims",
     "output_type": "error",
     "traceback": [
      "\u001b[1;31m---------------------------------------------------------------------------\u001b[0m",
      "\u001b[1;31mRuntimeError\u001b[0m                              Traceback (most recent call last)",
      "Cell \u001b[1;32mIn[123], line 1\u001b[0m\n\u001b[1;32m----> 1\u001b[0m \u001b[43mtorch\u001b[49m\u001b[38;5;241;43m.\u001b[39;49m\u001b[43mflip\u001b[49m\u001b[43m(\u001b[49m\u001b[43mtorch\u001b[49m\u001b[38;5;241;43m.\u001b[39;49m\u001b[43mmin\u001b[49m\u001b[43m(\u001b[49m\u001b[43mdata\u001b[49m\u001b[43m,\u001b[49m\u001b[43m \u001b[49m\u001b[43mdim\u001b[49m\u001b[38;5;241;43m=\u001b[39;49m\u001b[38;5;241;43m1\u001b[39;49m\u001b[43m)\u001b[49m\u001b[43m[\u001b[49m\u001b[38;5;241;43m0\u001b[39;49m\u001b[43m]\u001b[49m\u001b[43m,\u001b[49m\u001b[43m \u001b[49m\u001b[43mdims\u001b[49m\u001b[38;5;241;43m=\u001b[39;49m\u001b[43m(\u001b[49m\u001b[38;5;241;43m0\u001b[39;49m\u001b[43m,\u001b[49m\u001b[43m \u001b[49m\u001b[38;5;241;43m-\u001b[39;49m\u001b[38;5;241;43m1\u001b[39;49m\u001b[43m)\u001b[49m\u001b[43m)\u001b[49m\n",
      "\u001b[1;31mRuntimeError\u001b[0m: dim 0 appears multiple times in the list of dims"
     ]
    }
   ],
   "source": [
    "torch.flip(torch.min(data, dim=1)[0], dims=(0, -1))"
   ]
  },
  {
   "cell_type": "code",
   "execution_count": 132,
   "id": "53c85996",
   "metadata": {},
   "outputs": [
    {
     "data": {
      "text/plain": [
       "tensor([[1.],\n",
       "        [2.],\n",
       "        [7.]])"
      ]
     },
     "execution_count": 132,
     "metadata": {},
     "output_type": "execute_result"
    }
   ],
   "source": [
    "torch.min(data, dim=1)[0].view(-1,1)"
   ]
  },
  {
   "cell_type": "code",
   "execution_count": 133,
   "id": "65d3d118",
   "metadata": {},
   "outputs": [
    {
     "data": {
      "text/plain": [
       "tensor([[ 10.],\n",
       "        [  2.],\n",
       "        [100.]])"
      ]
     },
     "execution_count": 133,
     "metadata": {},
     "output_type": "execute_result"
    }
   ],
   "source": [
    "torch.gather(data, 1, torch.argmax(torch.abs(data - torch.mean(data, dim=1, keepdim=True)), dim=1).unsqueeze(1))"
   ]
  },
  {
   "cell_type": "code",
   "execution_count": 137,
   "id": "d5a68bee",
   "metadata": {},
   "outputs": [
    {
     "data": {
      "text/plain": [
       "tensor([[100.],\n",
       "        [ 10.]])"
      ]
     },
     "execution_count": 137,
     "metadata": {},
     "output_type": "execute_result"
    }
   ],
   "source": [
    "torch.topk(torch.max(data, dim=1)[0], 2)[0].view(-1, 1)"
   ]
  },
  {
   "cell_type": "code",
   "execution_count": 146,
   "id": "d4e58367",
   "metadata": {},
   "outputs": [
    {
     "data": {
      "text/plain": [
       "tensor(-1.0000)"
      ]
     },
     "execution_count": 146,
     "metadata": {},
     "output_type": "execute_result"
    }
   ],
   "source": [
    "(torch.mean(data, dim=1)[1:] - torch.mean(data, dim=1)[:-1])[torch.argmin(torch.mean(data, dim=1)[1:] - torch.mean(data, dim=1)[:-1])]"
   ]
  },
  {
   "cell_type": "code",
   "execution_count": 142,
   "id": "30d6a6e2",
   "metadata": {},
   "outputs": [
    {
     "data": {
      "text/plain": [
       "tensor([ 4.6667,  8.3333, 46.6667])"
      ]
     },
     "execution_count": 142,
     "metadata": {},
     "output_type": "execute_result"
    }
   ],
   "source": [
    "torch.cumsum(torch.mean(data, dim=1), dim=0)"
   ]
  },
  {
   "cell_type": "code",
   "execution_count": 147,
   "id": "28d04936",
   "metadata": {},
   "outputs": [
    {
     "data": {
      "text/plain": [
       "tensor([[  3.,  10.,   1.],\n",
       "        [  5.,   4.,   2.],\n",
       "        [  7.,   8., 100.]])"
      ]
     },
     "execution_count": 147,
     "metadata": {},
     "output_type": "execute_result"
    }
   ],
   "source": [
    "data"
   ]
  },
  {
   "cell_type": "code",
   "execution_count": 148,
   "id": "37bf79fa",
   "metadata": {},
   "outputs": [],
   "source": [
    "x = torch.as_tensor([5, 6, 7])"
   ]
  },
  {
   "cell_type": "code",
   "execution_count": 149,
   "id": "15c50816",
   "metadata": {},
   "outputs": [
    {
     "data": {
      "text/plain": [
       "tensor([5, 6, 7])"
      ]
     },
     "execution_count": 149,
     "metadata": {},
     "output_type": "execute_result"
    }
   ],
   "source": [
    "x"
   ]
  },
  {
   "cell_type": "code",
   "execution_count": 150,
   "id": "d3e3510e",
   "metadata": {},
   "outputs": [
    {
     "data": {
      "text/plain": [
       "tensor([[-2.,  4., -6.],\n",
       "        [ 0., -2., -5.],\n",
       "        [ 2.,  2., 93.]])"
      ]
     },
     "execution_count": 150,
     "metadata": {},
     "output_type": "execute_result"
    }
   ],
   "source": [
    "data - x"
   ]
  },
  {
   "cell_type": "code",
   "execution_count": 151,
   "id": "f196ecdd",
   "metadata": {},
   "outputs": [
    {
     "data": {
      "text/plain": [
       "tensor([[ 2.,  4.,  6.],\n",
       "        [ 0.,  2.,  5.],\n",
       "        [ 2.,  2., 93.]])"
      ]
     },
     "execution_count": 151,
     "metadata": {},
     "output_type": "execute_result"
    }
   ],
   "source": [
    "torch.abs(data - x)"
   ]
  },
  {
   "cell_type": "code",
   "execution_count": 166,
   "id": "c0722eb0",
   "metadata": {},
   "outputs": [
    {
     "data": {
      "text/plain": [
       "tensor(1)"
      ]
     },
     "execution_count": 166,
     "metadata": {},
     "output_type": "execute_result"
    }
   ],
   "source": [
    "torch.Tensor.long(torch.argmin(torch.cumsum(torch.abs(data - x), dim=1)[:, -1]))"
   ]
  },
  {
   "cell_type": "code",
   "execution_count": 162,
   "id": "a2f90840",
   "metadata": {},
   "outputs": [
    {
     "data": {
      "text/plain": [
       "tensor([12.,  7., 97.])"
      ]
     },
     "execution_count": 162,
     "metadata": {},
     "output_type": "execute_result"
    }
   ],
   "source": [
    "torch.cumsum(torch.abs(data - x), dim=1)[:, -1]"
   ]
  },
  {
   "cell_type": "code",
   "execution_count": 164,
   "id": "083d7dca",
   "metadata": {},
   "outputs": [
    {
     "data": {
      "text/plain": [
       "tensor([[ 2.,  6., 12.],\n",
       "        [ 0.,  2.,  7.],\n",
       "        [ 2.,  4., 97.]])"
      ]
     },
     "execution_count": 164,
     "metadata": {},
     "output_type": "execute_result"
    }
   ],
   "source": [
    "torch.cumsum(torch.abs(data - x), dim=1)"
   ]
  },
  {
   "cell_type": "code",
   "execution_count": 165,
   "id": "6b7ad836",
   "metadata": {},
   "outputs": [
    {
     "data": {
      "text/plain": [
       "tensor([[ 2.,  4.,  6.],\n",
       "        [ 0.,  2.,  5.],\n",
       "        [ 2.,  2., 93.]])"
      ]
     },
     "execution_count": 165,
     "metadata": {},
     "output_type": "execute_result"
    }
   ],
   "source": [
    "torch.abs(data - x)"
   ]
  },
  {
   "cell_type": "code",
   "execution_count": 171,
   "id": "30ef1e94",
   "metadata": {},
   "outputs": [
    {
     "data": {
      "text/plain": [
       "tensor([0., 3., 6., 9.])"
      ]
     },
     "execution_count": 171,
     "metadata": {},
     "output_type": "execute_result"
    }
   ],
   "source": [
    "x = torch.as_tensor([0., 1., 2., 3., 4., 5., 6., 7., 8., 9.])\n",
    "\n",
    "y = []\n",
    "for i, v in enumerate(x):\n",
    "    if i % 3 == 0:\n",
    "        y.append(v)\n",
    "        \n",
    "torch.stack(y, dim=0)"
   ]
  },
  {
   "cell_type": "code",
   "execution_count": 172,
   "id": "ce0a678b",
   "metadata": {},
   "outputs": [
    {
     "data": {
      "text/plain": [
       "tensor([0., 3., 6., 9.])"
      ]
     },
     "execution_count": 172,
     "metadata": {},
     "output_type": "execute_result"
    }
   ],
   "source": [
    "x[0::3]"
   ]
  },
  {
   "cell_type": "code",
   "execution_count": 175,
   "id": "47c2389e",
   "metadata": {},
   "outputs": [],
   "source": [
    "x = torch.as_tensor([[[ 1.5674, -0.2373, -0.0274, -1.1008,  0.2859, -0.0296, -1.5471,\n",
    "           0.6049],\n",
    "         [ 0.0791,  0.9046, -0.4713,  0.7868, -0.3284, -0.4330,  1.3729,\n",
    "           2.9334],\n",
    "         [ 1.5618, -1.6261,  0.6772, -0.8404,  0.9849, -0.1484, -1.4795,\n",
    "           0.4483],\n",
    "         [-0.0707,  2.4968,  2.4448, -0.6701, -1.2199,  0.3031, -1.0725,\n",
    "           0.7276]],\n",
    "\n",
    "        [[ 0.0511,  1.3095, -0.8022, -0.8504, -1.8068,  1.2523, -1.2256,\n",
    "           1.2165],\n",
    "         [-0.9648, -0.2321, -0.3476,  0.3324, -1.3263,  1.1224,  0.5964,\n",
    "           0.4585],\n",
    "         [ 0.0540, -1.7400,  0.1156,  0.8032,  0.5411, -1.1646,  0.1476,\n",
    "          -1.0006],\n",
    "         [ 0.3801,  0.4733, -0.9103, -0.7830,  0.1351, -0.2116, -1.0406,\n",
    "          -1.5367]]])\n",
    "\n",
    "\n",
    "y = torch.as_tensor([[ 0.9374, -0.8830,  1.7457,  2.1346, -0.8561,  0.5408,  0.6169,  1.5160],\n",
    "        [-1.0447, -0.6641, -0.7239,  1.7507,  0.1753,  0.9928, -0.6279,  0.0770],\n",
    "        [-1.1641,  1.2473, -0.2706, -1.3635,  1.3066,  0.3231,  1.0358, -0.8625],\n",
    "        [-1.2575,  0.9418, -1.3257,  0.1467,  0.1691, -1.5397, -0.7276,  1.1491],\n",
    "        [-0.8746, -0.2977, -1.3707,  0.1150, -1.0188, -0.8378, -2.1057, -0.2604],\n",
    "        [-1.7149, -0.3379, -1.8263, -0.8390, -1.5723,  0.4580, -0.5653,  0.5428],\n",
    "        [ 0.1755, -2.2901, -0.7093, -0.2928, -2.1803,  0.0793,  0.9019,  1.2028],\n",
    "        [-0.5614, -0.1375, -0.1380, -2.0977, -0.7924,  0.6069, -1.4777, -0.5103]])"
   ]
  },
  {
   "cell_type": "code",
   "execution_count": 176,
   "id": "c77b3e54",
   "metadata": {},
   "outputs": [
    {
     "data": {
      "text/plain": [
       "tensor(26)"
      ]
     },
     "execution_count": 176,
     "metadata": {},
     "output_type": "execute_result"
    }
   ],
   "source": [
    "a = 0\n",
    "b = 0\n",
    "for i in x.flatten():\n",
    "    a += i\n",
    "    b += 1\n",
    "mean = a / b\n",
    "c = 0\n",
    "for i in y.flatten():\n",
    "    if i > mean:\n",
    "        c += 1\n",
    "torch.as_tensor(c)"
   ]
  },
  {
   "cell_type": "code",
   "execution_count": 186,
   "id": "39577340",
   "metadata": {},
   "outputs": [
    {
     "data": {
      "text/plain": [
       "tensor(26)"
      ]
     },
     "execution_count": 186,
     "metadata": {},
     "output_type": "execute_result"
    }
   ],
   "source": [
    "torch.tensor(torch.gt(y, torch.mean(x)).sum().item())"
   ]
  },
  {
   "cell_type": "code",
   "execution_count": 188,
   "id": "17cf4fb9",
   "metadata": {},
   "outputs": [
    {
     "data": {
      "text/plain": [
       "tensor(26)"
      ]
     },
     "execution_count": 188,
     "metadata": {},
     "output_type": "execute_result"
    }
   ],
   "source": [
    "torch.as_tensor(torch.sum(torch.gt(y, torch.mean(x))))"
   ]
  },
  {
   "cell_type": "code",
   "execution_count": 179,
   "id": "2990a429",
   "metadata": {},
   "outputs": [
    {
     "ename": "RuntimeError",
     "evalue": "The size of tensor a (8) must match the size of tensor b (4) at non-singleton dimension 0",
     "output_type": "error",
     "traceback": [
      "\u001b[1;31m---------------------------------------------------------------------------\u001b[0m",
      "\u001b[1;31mRuntimeError\u001b[0m                              Traceback (most recent call last)",
      "Cell \u001b[1;32mIn[179], line 1\u001b[0m\n\u001b[1;32m----> 1\u001b[0m \u001b[43mtorch\u001b[49m\u001b[38;5;241;43m.\u001b[39;49m\u001b[43mgt\u001b[49m\u001b[43m(\u001b[49m\u001b[43my\u001b[49m\u001b[43m,\u001b[49m\u001b[43m \u001b[49m\u001b[43mtorch\u001b[49m\u001b[38;5;241;43m.\u001b[39;49m\u001b[43mmean\u001b[49m\u001b[43m(\u001b[49m\u001b[43mx\u001b[49m\u001b[43m,\u001b[49m\u001b[43m \u001b[49m\u001b[43mdim\u001b[49m\u001b[38;5;241;43m=\u001b[39;49m\u001b[38;5;241;43m0\u001b[39;49m\u001b[43m)\u001b[49m\u001b[43m)\u001b[49m\n",
      "\u001b[1;31mRuntimeError\u001b[0m: The size of tensor a (8) must match the size of tensor b (4) at non-singleton dimension 0"
     ]
    }
   ],
   "source": [
    "torch.gt(y, torch.mean(x, dim=0))"
   ]
  },
  {
   "cell_type": "code",
   "execution_count": 189,
   "id": "6585475d",
   "metadata": {},
   "outputs": [],
   "source": [
    "x = torch.as_tensor([ -0.9800])\n",
    "y = torch.as_tensor([-0.9800, -0.0572])"
   ]
  },
  {
   "cell_type": "code",
   "execution_count": 190,
   "id": "1a22fe85",
   "metadata": {},
   "outputs": [
    {
     "data": {
      "text/plain": [
       "tensor(1)"
      ]
     },
     "execution_count": 190,
     "metadata": {},
     "output_type": "execute_result"
    }
   ],
   "source": [
    "count = 0\n",
    "for xi in x:\n",
    "    for yi in y:\n",
    "        if abs(xi - yi) < 1e-3:\n",
    "            count += 1\n",
    "            break\n",
    "torch.as_tensor(count)"
   ]
  },
  {
   "cell_type": "code",
   "execution_count": 193,
   "id": "e8944615",
   "metadata": {},
   "outputs": [
    {
     "data": {
      "text/plain": [
       "tensor(1)"
      ]
     },
     "execution_count": 193,
     "metadata": {},
     "output_type": "execute_result"
    }
   ],
   "source": [
    "torch.as_tensor(torch.sum((x.unsqueeze(1) == y).any(dim=1)))"
   ]
  },
  {
   "cell_type": "code",
   "execution_count": 194,
   "id": "040e91a5",
   "metadata": {},
   "outputs": [],
   "source": [
    "y = torch.as_tensor([ 0.2345,  0.4975,  0.1104, -0.0738, -0.3271,  0.7549,  0.6801, -0.9512,\n",
    "        -0.2265, -0.6040])\n",
    "x = torch.as_tensor([ 0.2345,  0.4975,  0.1104, -0.0738,  0.4979])"
   ]
  },
  {
   "cell_type": "code",
   "execution_count": 195,
   "id": "5a0569fe",
   "metadata": {},
   "outputs": [
    {
     "data": {
      "text/plain": [
       "tensor(5)"
      ]
     },
     "execution_count": 195,
     "metadata": {},
     "output_type": "execute_result"
    }
   ],
   "source": [
    "count = 0\n",
    "for xi in x:\n",
    "    for yi in y:\n",
    "        if abs(xi - yi) < 1e-3:\n",
    "            count += 1\n",
    "            break\n",
    "torch.as_tensor(count)"
   ]
  },
  {
   "cell_type": "code",
   "execution_count": 196,
   "id": "6776a1f0",
   "metadata": {},
   "outputs": [
    {
     "data": {
      "text/plain": [
       "tensor(4)"
      ]
     },
     "execution_count": 196,
     "metadata": {},
     "output_type": "execute_result"
    }
   ],
   "source": [
    "torch.as_tensor(torch.sum((x.unsqueeze(1) == y).any(dim=1)))"
   ]
  },
  {
   "cell_type": "code",
   "execution_count": 199,
   "id": "9eeed7bf",
   "metadata": {},
   "outputs": [],
   "source": [
    "x = torch.as_tensor([[ 0.,  1.],\n",
    "        [-2., -2.],\n",
    "        [-1.,  0.]])\n",
    "y = torch.as_tensor([0., 1., 0.])"
   ]
  },
  {
   "cell_type": "code",
   "execution_count": 203,
   "id": "5d74346c",
   "metadata": {},
   "outputs": [
    {
     "data": {
      "text/plain": [
       "tuple[tensor([[ 0.,  1.],\n",
       "        [-2., -2.],\n",
       "        [-1.,  0.]]), tensor([0., 1., 0.])]"
      ]
     },
     "execution_count": 203,
     "metadata": {},
     "output_type": "execute_result"
    }
   ],
   "source": [
    "tuple[torch.as_tensor(x), torch.as_tensor(y)]"
   ]
  },
  {
   "cell_type": "code",
   "execution_count": 204,
   "id": "e1fd1e08",
   "metadata": {},
   "outputs": [
    {
     "data": {
      "text/plain": [
       "tuple[tensor([[ 0.,  1.],\n",
       "        [-2., -2.],\n",
       "        [-1.,  0.]]), tensor([0., 1., 0.])]"
      ]
     },
     "execution_count": 204,
     "metadata": {},
     "output_type": "execute_result"
    }
   ],
   "source": [
    "tuple[torch.as_tensor(x), torch.as_tensor(y)]"
   ]
  },
  {
   "cell_type": "code",
   "execution_count": 205,
   "id": "14c97263",
   "metadata": {},
   "outputs": [
    {
     "data": {
      "text/plain": [
       "types.GenericAlias"
      ]
     },
     "execution_count": 205,
     "metadata": {},
     "output_type": "execute_result"
    }
   ],
   "source": [
    "type(tuple[torch.as_tensor(x), torch.as_tensor(y)])"
   ]
  },
  {
   "cell_type": "code",
   "execution_count": 206,
   "id": "b6018513",
   "metadata": {},
   "outputs": [
    {
     "data": {
      "text/plain": [
       "tuple"
      ]
     },
     "execution_count": 206,
     "metadata": {},
     "output_type": "execute_result"
    }
   ],
   "source": [
    "type((torch.as_tensor(x), torch.as_tensor(y)))"
   ]
  },
  {
   "cell_type": "code",
   "execution_count": 240,
   "id": "83cb0674",
   "metadata": {},
   "outputs": [],
   "source": [
    "x = torch.as_tensor([[ 3., -3.],\n",
    "        [-2.,  1.],\n",
    "        [ 4., -1.],\n",
    "        [ 3.,  0.],\n",
    "        [ 0.,  4.]])"
   ]
  },
  {
   "cell_type": "code",
   "execution_count": 241,
   "id": "1e6e7278",
   "metadata": {},
   "outputs": [
    {
     "data": {
      "text/plain": [
       "(tensor(0.9000), tensor(2.5144))"
      ]
     },
     "execution_count": 241,
     "metadata": {},
     "output_type": "execute_result"
    }
   ],
   "source": [
    "(x.mean(), x.std())"
   ]
  },
  {
   "cell_type": "code",
   "execution_count": 244,
   "id": "a149e690",
   "metadata": {},
   "outputs": [
    {
     "data": {
      "text/plain": [
       "tensor([[ 1.4000, -3.2000],\n",
       "        [-3.6000,  0.8000],\n",
       "        [ 2.4000, -1.2000],\n",
       "        [ 1.4000, -0.2000],\n",
       "        [-1.6000,  3.8000]])"
      ]
     },
     "execution_count": 244,
     "metadata": {},
     "output_type": "execute_result"
    }
   ],
   "source": [
    "x - x.mean(dim=0)"
   ]
  },
  {
   "cell_type": "code",
   "execution_count": 245,
   "id": "add792a1",
   "metadata": {},
   "outputs": [
    {
     "data": {
      "text/plain": [
       "tensor([[ 0.5578, -1.2363],\n",
       "        [-1.4343,  0.3091],\n",
       "        [ 0.9562, -0.4636],\n",
       "        [ 0.5578, -0.0773],\n",
       "        [-0.6375,  1.4681]])"
      ]
     },
     "execution_count": 245,
     "metadata": {},
     "output_type": "execute_result"
    }
   ],
   "source": [
    "(x - x.mean(dim=0))/x.std(dim=0)"
   ]
  },
  {
   "cell_type": "code",
   "execution_count": 266,
   "id": "1cb228eb",
   "metadata": {},
   "outputs": [],
   "source": [
    "x = torch.as_tensor([[1.0000, 0.2182]])\n",
    "data_normalized = torch.as_tensor([[ 1.0000,  0.8729],\n",
    "        [-1.0000, -1.0911],\n",
    "        [ 0.0000,  0.2182]])"
   ]
  },
  {
   "cell_type": "code",
   "execution_count": 267,
   "id": "59dbf8fc",
   "metadata": {},
   "outputs": [],
   "source": [
    "dist = torch.as_tensor([((norm_data - x).pow(2).sum()) for norm_data \\\n",
    "                                 in data_normalized])"
   ]
  },
  {
   "cell_type": "code",
   "execution_count": 268,
   "id": "57596d75",
   "metadata": {},
   "outputs": [
    {
     "data": {
      "text/plain": [
       "tensor([0.4286, 5.7143, 1.0000])"
      ]
     },
     "execution_count": 268,
     "metadata": {},
     "output_type": "execute_result"
    }
   ],
   "source": [
    "dist"
   ]
  },
  {
   "cell_type": "code",
   "execution_count": 269,
   "id": "0771480b",
   "metadata": {},
   "outputs": [],
   "source": [
    "sorted, indices = torch.sort(dist)"
   ]
  },
  {
   "cell_type": "code",
   "execution_count": 270,
   "id": "269897dc",
   "metadata": {},
   "outputs": [
    {
     "name": "stdout",
     "output_type": "stream",
     "text": [
      "tensor([0.4286, 1.0000, 5.7143])\n",
      "tensor([0, 2, 1])\n"
     ]
    }
   ],
   "source": [
    "print(sorted)\n",
    "print(indices)"
   ]
  },
  {
   "cell_type": "code",
   "execution_count": 287,
   "id": "3dd833f8",
   "metadata": {},
   "outputs": [],
   "source": [
    "data = torch.as_tensor([[74.8000, 88.4000, 54.4000, 56.6000, 65.3000, 81.7000, 74.5000, 94.8000,72.7000, 81.6000],[67.4000, 70.0000, 51.1000, 58.4000, 64.6000, 75.9000, 84.8000, 90.0000,58.0000, 64.1000]])"
   ]
  },
  {
   "cell_type": "code",
   "execution_count": 272,
   "id": "0ba80920",
   "metadata": {},
   "outputs": [
    {
     "data": {
      "text/plain": [
       "tensor([[74.8000, 88.4000, 54.4000, 56.6000, 65.3000, 81.7000, 74.5000, 94.8000,\n",
       "         72.7000, 81.6000],\n",
       "        [67.4000, 70.0000, 51.1000, 58.4000, 64.6000, 75.9000, 84.8000, 90.0000,\n",
       "         58.0000, 64.1000]])"
      ]
     },
     "execution_count": 272,
     "metadata": {},
     "output_type": "execute_result"
    }
   ],
   "source": [
    "data"
   ]
  },
  {
   "cell_type": "code",
   "execution_count": 274,
   "id": "c14c3424",
   "metadata": {},
   "outputs": [
    {
     "data": {
      "text/plain": [
       "tensor([[74.8000, 88.4000, 54.4000, 56.6000, 65.3000, 81.7000, 74.5000, 94.8000,\n",
       "         72.7000, 81.6000],\n",
       "        [67.4000, 70.0000, 51.1000, 58.4000, 64.6000, 75.9000, 84.8000, 90.0000,\n",
       "         58.0000, 64.1000]])"
      ]
     },
     "execution_count": 274,
     "metadata": {},
     "output_type": "execute_result"
    }
   ],
   "source": [
    "torch.as_tensor(data).view(-1, 10)"
   ]
  },
  {
   "cell_type": "code",
   "execution_count": 277,
   "id": "c07c6ac2",
   "metadata": {},
   "outputs": [
    {
     "data": {
      "text/plain": [
       "(tensor([[54.4000],\n",
       "         [51.1000]]),\n",
       " tensor([[94.8000],\n",
       "         [90.0000]]))"
      ]
     },
     "execution_count": 277,
     "metadata": {},
     "output_type": "execute_result"
    }
   ],
   "source": [
    "torch.min(data, dim=1)[0].view(-1,1), torch.max(data, dim=1)[0].view(-1, 1)"
   ]
  },
  {
   "cell_type": "code",
   "execution_count": 280,
   "id": "82a11481",
   "metadata": {},
   "outputs": [
    {
     "data": {
      "text/plain": [
       "torch.Size([2, 1])"
      ]
     },
     "execution_count": 280,
     "metadata": {},
     "output_type": "execute_result"
    }
   ],
   "source": [
    "(torch.min(data, dim=1)[0].view(-1,1)).shape"
   ]
  },
  {
   "cell_type": "code",
   "execution_count": 286,
   "id": "e3838814",
   "metadata": {},
   "outputs": [
    {
     "data": {
      "text/plain": [
       "torch.Size([2])"
      ]
     },
     "execution_count": 286,
     "metadata": {},
     "output_type": "execute_result"
    }
   ],
   "source": [
    "torch.squeeze(torch.as_tensor((torch.min(data, dim=1)[0].view(-1,1)))).shape"
   ]
  },
  {
   "cell_type": "code",
   "execution_count": 292,
   "id": "7ee09203",
   "metadata": {},
   "outputs": [],
   "source": [
    "data\n",
    "k=1"
   ]
  },
  {
   "cell_type": "code",
   "execution_count": 311,
   "id": "173c4411",
   "metadata": {},
   "outputs": [
    {
     "data": {
      "text/plain": [
       "tensor(68.4300)"
      ]
     },
     "execution_count": 311,
     "metadata": {},
     "output_type": "execute_result"
    }
   ],
   "source": [
    "torch.mean(data[-k:])"
   ]
  },
  {
   "cell_type": "code",
   "execution_count": 309,
   "id": "26789dff",
   "metadata": {},
   "outputs": [
    {
     "data": {
      "text/plain": [
       "tensor([[67.4000, 70.0000, 51.1000, 58.4000, 64.6000, 75.9000, 84.8000, 90.0000,\n",
       "         58.0000, 64.1000]])"
      ]
     },
     "execution_count": 309,
     "metadata": {},
     "output_type": "execute_result"
    }
   ],
   "source": [
    "data[-k:]"
   ]
  },
  {
   "cell_type": "code",
   "execution_count": null,
   "id": "b31e8d9b",
   "metadata": {},
   "outputs": [],
   "source": [
    "x = "
   ]
  }
 ],
 "metadata": {
  "jupytext": {
   "cell_markers": "region,endregion"
  },
  "kernelspec": {
   "display_name": "Python 3",
   "language": "python",
   "name": "python3"
  },
  "language_info": {
   "codemirror_mode": {
    "name": "ipython",
    "version": 3
   },
   "file_extension": ".py",
   "mimetype": "text/x-python",
   "name": "python",
   "nbconvert_exporter": "python",
   "pygments_lexer": "ipython3",
   "version": "3.11.9"
  }
 },
 "nbformat": 4,
 "nbformat_minor": 5
}
